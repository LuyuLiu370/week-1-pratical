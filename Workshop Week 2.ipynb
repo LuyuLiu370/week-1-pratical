{
  "metadata": {
    "kernelspec": {
      "name": "python",
      "display_name": "Python (Pyodide)",
      "language": "python"
    },
    "language_info": {
      "codemirror_mode": {
        "name": "python",
        "version": 3
      },
      "file_extension": ".py",
      "mimetype": "text/x-python",
      "name": "python",
      "nbconvert_exporter": "python",
      "pygments_lexer": "ipython3",
      "version": "3.8"
    }
  },
  "nbformat_minor": 4,
  "nbformat": 4,
  "cells": [
    {
      "cell_type": "markdown",
      "source": "The goal this week is to pratice using Markdown to write descriptive text in notebooks and then look at Python data structures including the pandas module that supports data structures designed for handling the kind of data we'll be working with.  \n\nThere is probably too much work to complete here in the workshop session, but please use this notebook after the workshop to practice your Python.  Remember to commit your changes to git as you go and push back to Github when you are done.",
      "metadata": {}
    },
    {
      "cell_type": "code",
      "source": "student_name = \"Luyu Liu\"\nstudent_id = \"45522367\"",
      "metadata": {
        "trusted": true
      },
      "outputs": [],
      "execution_count": null
    },
    {
      "cell_type": "markdown",
      "source": "## Markdown Practice\n\nComplete this section as per the instructions in the iLearn practical page.  Add the required cells below this one.",
      "metadata": {}
    },
    {
      "cell_type": "markdown",
      "source": "## Lists and Dictionaries\n\nFirst we look at some built in Python data structures: lists and dictionaries. \n\nA list is a sequence of things, unlike strongly typed languages (Java, C#) a list can contain a mixture of different types - there is no type for a list of integers or a list of lists.   Here are some lists:",
      "metadata": {}
    },
    {
      "cell_type": "code",
      "source": "ages = [12, 99, 51, 3, 55]\nnames = ['steve', 'jim', 'mary', 'carrie', 'zin']\nstuff = [12, 'eighteen', 6, ['another', 'list']]",
      "metadata": {
        "trusted": true
      },
      "outputs": [],
      "execution_count": null
    },
    {
      "cell_type": "markdown",
      "source": "1. write code to print the first and third elements of each list\n2. write code to select and print everything except the first element of each list\n3. write a for loop that prints each element of the 'names' list",
      "metadata": {}
    },
    {
      "cell_type": "code",
      "source": "stuff[1:]\nfor name in names:\n        print(name)",
      "metadata": {
        "trusted": true
      },
      "outputs": [],
      "execution_count": null
    },
    {
      "cell_type": "code",
      "source": "print(ages[0])\nprint(ages[2])\nprint(names[0])\nprint(names[2])\nprint(stuff[0])\nprint(stuff[2])",
      "metadata": {
        "trusted": true
      },
      "outputs": [],
      "execution_count": null
    },
    {
      "cell_type": "code",
      "source": "print(ages[1:4])\nprint(names[1:4])\nprint(stuff[1:4])",
      "metadata": {
        "trusted": true
      },
      "outputs": [],
      "execution_count": null
    },
    {
      "cell_type": "markdown",
      "source": "A dictionary is an associative array - it associates a value (any Python data type) with a key. The key is usually a string but can be any immutable type (string, number, tuple).  Here's some code that counts the occurence of words in a string.  It stores the count for each word in a dictionary using the word as a key. If the word is already stored in the dictionary, it adds one to the count, if not, it initialises the count to one.  \n\nThe second for loop iterates over the keys in the dictionary and prints one line per entry.\n\nModify this example to be a bit smarter:\n- make sure that punctuation characters are not included as parts of a word, be careful with hyphens - should they be included or not?\n- make the count use the lowercase version of a word, so that 'The' and 'the' are counted as the same word\n- **Challenge**: find the first and second most frequent words in the text\n- **Challenge**: take your code and write it as a function that takes a string and returns a list of words with their counts in order",
      "metadata": {}
    },
    {
      "cell_type": "code",
      "source": "description = \"\"\"This unit introduces students to the fundamental techniques and \ntools of data science, such as the graphical display of data, \npredictive models, evaluation methodologies, regression, \nclassification and clustering. The unit provides practical \nexperience applying these methods using industry-standard \nsoftware tools to real-world data sets. Students who have \ncompleted this unit will be able to identify which data \nscience methods are most appropriate for a real-world data \nset, apply these methods to the data set, and interpret the \nresults of the analysis they have performed. \"\"\"\n\ncount = dict()\nfor word in description.split():\n    if word in count:\n        count[word] += 1\n    else:\n        count[word] = 1\n        \nfor word in count:\n    print(word, count[word])",
      "metadata": {
        "trusted": true
      },
      "outputs": [],
      "execution_count": null
    },
    {
      "cell_type": "code",
      "source": "import re\ndesc = re.sub(r'[^\\s\\w]', '', description)\nprint(desc)",
      "metadata": {
        "trusted": true
      },
      "outputs": [],
      "execution_count": null
    },
    {
      "cell_type": "code",
      "source": "desc = re.sub(r'[@,\\.]', '', description)\nprint(desc)",
      "metadata": {
        "trusted": true
      },
      "outputs": [],
      "execution_count": null
    },
    {
      "cell_type": "code",
      "source": "desc = desc.lower()\ncount = dict()\nfor word in desc.split():\n    if word in count:\n        count[word] += 1\n    else:\n        count[word] = 1\n        \nfor word in count:\n    print(word, count[word])",
      "metadata": {
        "trusted": true
      },
      "outputs": [],
      "execution_count": null
    },
    {
      "cell_type": "code",
      "source": "from collections import Counter, OrderdDict\nc = Counter(desc.split())\nprint(c)",
      "metadata": {
        "trusted": true
      },
      "outputs": [],
      "execution_count": null
    },
    {
      "cell_type": "code",
      "source": "print(c.most_common(5))",
      "metadata": {
        "trusted": true
      },
      "outputs": [],
      "execution_count": null
    },
    {
      "cell_type": "markdown",
      "source": "## Pandas Data Frames\n\n[Pandas](https://pandas.pydata.org) is a Python module that provides some important data structures for Data Science work and a large collection of methods for data analysis. \n\nThe two main data structures are the [Series]() and [DataFrame](http://pandas.pydata.org/pandas-docs/stable/dsintro.html#dataframe).  \n\nA Series is a one dimensional array of data, but unlike the Python list the data is indexed - the index is like the dictionary key, any immutable value like a number or string.  You can use the label to select elements from the series as well as positional values.  \n\nA DataFrame is analogous to a spreadsheet - a two dimensional table of data with indexed rows and named columns. \n\nYou should read up on these and follow the examples in the text.  Here are a few exercises to complete with data frames.",
      "metadata": {}
    },
    {
      "cell_type": "markdown",
      "source": "You are given three csv files containing sample data.",
      "metadata": {}
    },
    {
      "cell_type": "code",
      "source": "import pandas as pd\nimport numpy as np\nimport matplotlib.pyplot as plt\n%matplotlib inline\n\nds1 = '/Users/User/Desktop/ds1.csv'\nds2 = '/Users/User/Desktop/ds2.csv'\nds3 = '/Users/User/Desktop/ds3.csv'",
      "metadata": {
        "trusted": true
      },
      "outputs": [],
      "execution_count": null
    },
    {
      "cell_type": "markdown",
      "source": "Write code below to read one of these data files into a pandas data frame and:\n- show the first few rows: .head\n- find the summary data for each column: .describe\n- select just those rows where the value of x and y is over 50\n- select the column 'x' and create a series\n- plot the 'x' series as a line graph\n- plot the dataframe as a scatterplot\n\nOnce you have the code for this, you can change the file you use for input of the data (ds2, ds3) and re-run the following cells to see the different output that is generated",
      "metadata": {}
    },
    {
      "cell_type": "code",
      "source": "df1 = pd.read_csv(ds1)\ndf2 = pd.read_csv(ds2)\ndf3 = pd.read_csv(ds3)\nprint(df1.shape)\nprint(df2.shape)\nprint(df3.shape)",
      "metadata": {
        "trusted": true
      },
      "outputs": [],
      "execution_count": null
    },
    {
      "cell_type": "code",
      "source": "print(df1.head())",
      "metadata": {
        "trusted": true
      },
      "outputs": [],
      "execution_count": null
    },
    {
      "cell_type": "code",
      "source": "print(df1.describr())",
      "metadata": {
        "trusted": true
      },
      "outputs": [],
      "execution_count": null
    },
    {
      "cell_type": "code",
      "source": "x50 = df1['x'] > 50\ny50 = df1['y] >50\nnewdf1 = df1[x50 & y50]\nprint(newdf1)\nprint(newdf1.shape)",
      "metadata": {
        "trusted": true
      },
      "outputs": [],
      "execution_count": null
    },
    {
      "cell_type": "code",
      "source": "first_col = df1['x']\nprint(first_col)",
      "metadata": {
        "trusted": true
      },
      "outputs": [],
      "execution_count": null
    },
    {
      "cell_type": "markdown",
      "source": "## Checkpoint\n\nCongratulations! you have finished the required task for Week 2. Since you got this empty (without your code and output) notebook by downloading from iLearn, place this notebook (Workshop Week 2.ipynb) into your local copy of your Github repository (e.g. practical-workshops-sonitsingh)and commit your work with a suitable commit message and push your changes back to your Github repository. Show your tutor your updated Github repository to get your checkpoint mark.",
      "metadata": {}
    },
    {
      "cell_type": "markdown",
      "source": "# Further Practice\n\nIf you finish this task you can practice more with pandas data frames by following the examples in the text, section 2.6.  The CSV file that they use in that section is available in the `files` directory of this repository as `educ_figdp_1_Data.csv`.   ",
      "metadata": {}
    },
    {
      "cell_type": "code",
      "source": "edufile = 'files/educ_figdp_1_Data.csv'",
      "metadata": {},
      "outputs": [],
      "execution_count": null
    }
  ]
}