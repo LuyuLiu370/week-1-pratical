{
  "metadata": {
    "kernelspec": {
      "name": "python",
      "display_name": "Python (Pyodide)",
      "language": "python"
    },
    "language_info": {
      "codemirror_mode": {
        "name": "python",
        "version": 3
      },
      "file_extension": ".py",
      "mimetype": "text/x-python",
      "name": "python",
      "nbconvert_exporter": "python",
      "pygments_lexer": "ipython3",
      "version": "3.8"
    }
  },
  "nbformat_minor": 4,
  "nbformat": 4,
  "cells": [
    {
      "cell_type": "markdown",
      "source": "# COMP2200/COMP6200 Week 1 Practical",
      "metadata": {}
    },
    {
      "cell_type": "markdown",
      "source": "The goal of this week's practical is to get you started using Python, Jupyter Notebooks, and Git, three tools that you will use through the semester in your work.  \n\n**Python** is our language of choice in COMP2200/COMP6200. If you do not have any experience of using Python, you need to learn basic Python coding.\n\nYou are looking at a **Jupyter Notebook**, it is a document that mixes text, code and the output of the code. A lot of your work will be creating notebooks like this to present your analysis.  \n\n**Git** is a distributed version control system (DVCS), you will use it to keep track of your work and ensure that you have a backup copy of what you are doing. You should have checked this notebook out of **Github** using Git. Your task this week is to complete some programming work in this worksheet and commit your changes to your own Bitbucket repository.",
      "metadata": {}
    },
    {
      "cell_type": "markdown",
      "source": "## Python Basics",
      "metadata": {}
    },
    {
      "cell_type": "markdown",
      "source": "Your task this week is to complete some basic programming tasks with Python in this worksheet.  There are questions below with a space for you to write code to achieve the given outcomes. Write the code, test it, and when you are done, submit your work as described at the end of the notebook. \n\nThe tasks aren't meant to be complicated Python problems, just some simple tasks to get you started with this process.  \n\n## String Manipulation\n\nThe next cell defines three strings that you will use in the first group of questions. Note that the first uses single quotes, the second uses double quotes and the third uses three double quotes since it includes newline characters.  These are all valid ways of writing strings in Python and are equivalent.",
      "metadata": {}
    },
    {
      "cell_type": "code",
      "source": "title = \"Data Science\"\ncode = \"COMP2200/COMP6200\"\ndescription = \"\"\"This unit introduces students to the fundamental techniques and \ntools of data science, such as the graphical display of data, \npredictive models, evaluation methodologies, regression, \nclassification and clustering. The unit provides practical \nexperience applying these methods using industry-standard \nsoftware tools to real-world data sets. Students who have \ncompleted this unit will be able to identify which data \nscience methods are most appropriate for a real-world data \nset, apply these methods to the data set, and interpret the \nresults of the analysis they have performed. \"\"\"",
      "metadata": {
        "trusted": true
      },
      "outputs": [],
      "execution_count": 73
    },
    {
      "cell_type": "markdown",
      "source": "Write code to print the length of these strings.",
      "metadata": {}
    },
    {
      "cell_type": "code",
      "source": "print(len(title))\nprint(len(code))",
      "metadata": {
        "trusted": true
      },
      "outputs": [
        {
          "name": "stdout",
          "text": "12\n17\n",
          "output_type": "stream"
        }
      ],
      "execution_count": 74
    },
    {
      "cell_type": "markdown",
      "source": "Write code to create a new string in a variable 'summary' that contains the code, title and the first 20 characters of the description, with a ':' character between each one (ie 'COMP2200/COMP6200:Data Science:This unit...'",
      "metadata": {}
    },
    {
      "cell_type": "code",
      "source": "summary = code + \":\" + title + \":\" + description[:20]\nsummary",
      "metadata": {
        "trusted": true
      },
      "outputs": [
        {
          "execution_count": 67,
          "output_type": "execute_result",
          "data": {
            "text/plain": "'COMP2200/COMP6200:Data Science:This unit introduces'"
          },
          "metadata": {}
        }
      ],
      "execution_count": 75
    },
    {
      "cell_type": "markdown",
      "source": "Write code to find the number of words in the description.  Hint, this is easy in Python since strings support the [split method](https://docs.python.org/3.6/library/stdtypes.html#str.split) that returns a list of strings after splitting on whitespace (or another character if you wish).   Try split on the string, then find out how many strings are in the resulting list.",
      "metadata": {}
    },
    {
      "cell_type": "code",
      "source": "len(description.split())",
      "metadata": {
        "trusted": true
      },
      "outputs": [
        {
          "execution_count": 68,
          "output_type": "execute_result",
          "data": {
            "text/plain": "84"
          },
          "metadata": {}
        }
      ],
      "execution_count": 76
    },
    {
      "cell_type": "markdown",
      "source": "# Control Structures\n\nHere you will explore Python control structures - conditionals and loops.  \n\nWrite a for loop over the words in the description and count how many times the word 'unit' occurs.  Your solution will have an if statement inside the for loop.\n\nHere you will encounter Python's required indentation for the first time. This will annoy you at first but you will learn to either love it or hate it with time...",
      "metadata": {}
    },
    {
      "cell_type": "code",
      "source": "words=description.split()\ncount=0\nfor w in words:\n        if w=='the':\n                    count +=1\nprint(count)",
      "metadata": {
        "scrolled": true,
        "trusted": true
      },
      "outputs": [],
      "execution_count": null
    },
    {
      "cell_type": "markdown",
      "source": "You can iterate over any sequence with a for loop, including the characters in a string.  Write a for loop over the characters in the description that prints out 'Comma!' every time it sees a comma.",
      "metadata": {}
    },
    {
      "cell_type": "code",
      "source": "for c in description:\n    if c == \",\":\n            print(\"Comma!\")\n    if c == \".\":\n            print(\"Period\")",
      "metadata": {
        "trusted": true
      },
      "outputs": [],
      "execution_count": null
    },
    {
      "cell_type": "markdown",
      "source": "## Functions\n\nPython is a dynamically typed language so we don't need to declare the type of a variable or declare the return type of a function (although Python 3 introduced optional [type hints](https://docs.python.org/3/library/typing.html)).  Apart from that the idea of writing a function in Python is the same as in Processing or (methods in) Java.\n\nWrite a function that takes a single string argument and returns the number of words in the string using the code you wrote above to count words.",
      "metadata": {}
    },
    {
      "cell_type": "code",
      "source": "def how_many_words(text):\n\n    return len(text.split())\nhow_many_words(description)",
      "metadata": {
        "trusted": true
      },
      "outputs": [],
      "execution_count": null
    },
    {
      "cell_type": "code",
      "source": "#write your code here",
      "metadata": {
        "trusted": true
      },
      "outputs": [],
      "execution_count": null
    },
    {
      "cell_type": "markdown",
      "source": "Use your function to find the number of words in the description string defined above.",
      "metadata": {}
    },
    {
      "cell_type": "code",
      "source": "#write your code here",
      "metadata": {
        "trusted": true
      },
      "outputs": [],
      "execution_count": null
    },
    {
      "cell_type": "markdown",
      "source": "## Data and Plotting\n\nJust to give you a taste of some of the capabilities of Jupyter notebooks and Python we will look at a very simple example of data handling and plotting.  First I'll import some libraries that will allow us to do this: `pandas` handles data and `matplotlib` does the plotting.",
      "metadata": {}
    },
    {
      "cell_type": "code",
      "source": "import pandas as pd\nimport matplotlib.pyplot as plt\n%matplotlib inline",
      "metadata": {
        "trusted": true
      },
      "outputs": [],
      "execution_count": null
    },
    {
      "cell_type": "markdown",
      "source": "Now I will define a data frame with some data about the number of students in this unit and the pass and fail rate.  This is like an array but can do a lot more. The last line in the cell evaluates the data frame so that it gets displayed. Notice that last year, none has failed - let's keep it that way!",
      "metadata": {}
    },
    {
      "cell_type": "code",
      "source": "classdata = pd.DataFrame({\n    'year': [2018, 2019, 2020, 2021],\n    'students': [38, 64, 247, 377],\n    'pass': [32, 50, 247, 377],\n    'fail': [6, 14, 0, 0]\n})\nclassdata",
      "metadata": {
        "trusted": true
      },
      "outputs": [],
      "execution_count": null
    },
    {
      "cell_type": "markdown",
      "source": "Now we will create a simple plot.",
      "metadata": {}
    },
    {
      "cell_type": "code",
      "source": "classdata.plot(kind='bar', x='year', y='students')",
      "metadata": {
        "trusted": true
      },
      "outputs": [],
      "execution_count": null
    },
    {
      "cell_type": "markdown",
      "source": "Experiment a little with this to try other options. Look at [the documentation](https://pandas.pydata.org/pandas-docs/stable/user_guide/visualization.html) for an idea. For example, can you make a line plot rather than a bar plot? Can you plot the other columns.",
      "metadata": {}
    },
    {
      "cell_type": "code",
      "source": "",
      "metadata": {
        "trusted": true
      },
      "outputs": [],
      "execution_count": null
    },
    {
      "cell_type": "markdown",
      "source": "Next we will add a new column, calculated from the pass and students columns to hold the percentage pass rate.  This shows how we can do calculations over the entire array of data using `pandas`.  ",
      "metadata": {}
    },
    {
      "cell_type": "code",
      "source": "classdata['passrate'] = 100*classdata['pass']/classdata['students']\nclassdata",
      "metadata": {
        "trusted": true
      },
      "outputs": [],
      "execution_count": null
    },
    {
      "cell_type": "markdown",
      "source": "Now create a new plot showing the change in percentage pass rate over the three years.",
      "metadata": {}
    },
    {
      "cell_type": "code",
      "source": "classdata.plot(x='year',y='students')",
      "metadata": {
        "trusted": true
      },
      "outputs": [],
      "execution_count": null
    },
    {
      "cell_type": "markdown",
      "source": "## Checkpoint\n\nYou got your copy of this notebook by forking and then cloning my Github repository.  Now that you have made some changes you should commit your work with a suitable commit message and push your changes back to your Github repository.  Show your tutor your updated Github repository to get your checkpoint mark.",
      "metadata": {}
    },
    {
      "cell_type": "code",
      "source": "",
      "metadata": {
        "trusted": true
      },
      "outputs": [],
      "execution_count": null
    },
    {
      "cell_type": "code",
      "source": "",
      "metadata": {
        "trusted": true
      },
      "outputs": [],
      "execution_count": null
    }
  ]
}